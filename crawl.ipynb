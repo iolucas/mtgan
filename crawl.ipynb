{
 "cells": [
  {
   "cell_type": "code",
   "execution_count": 92,
   "metadata": {
    "collapsed": true
   },
   "outputs": [],
   "source": [
    "import requests\n",
    "from bs4 import BeautifulSoup"
   ]
  },
  {
   "cell_type": "code",
   "execution_count": 4,
   "metadata": {
    "collapsed": true
   },
   "outputs": [],
   "source": [
    "req = requests.get(\"https://magiccards.info/sitemap.html\")"
   ]
  },
  {
   "cell_type": "code",
   "execution_count": 11,
   "metadata": {
    "collapsed": true
   },
   "outputs": [],
   "source": [
    "soup = BeautifulSoup(req.text, 'html.parser')"
   ]
  },
  {
   "cell_type": "code",
   "execution_count": 27,
   "metadata": {
    "collapsed": true
   },
   "outputs": [],
   "source": [
    "links = soup.find_all(\"table\")[1].find_all(\"a\")"
   ]
  },
  {
   "cell_type": "code",
   "execution_count": 31,
   "metadata": {},
   "outputs": [
    {
     "data": {
      "text/plain": [
       "{'href': '/xln/en.html'}"
      ]
     },
     "execution_count": 31,
     "metadata": {},
     "output_type": "execute_result"
    }
   ],
   "source": [
    "links[0].attrs"
   ]
  },
  {
   "cell_type": "code",
   "execution_count": 34,
   "metadata": {
    "collapsed": true
   },
   "outputs": [],
   "source": [
    "def get_data(links):\n",
    "    for link in links:\n",
    "        yield link.text, \"https://magiccards.info\" + link.attrs['href']"
   ]
  },
  {
   "cell_type": "code",
   "execution_count": 37,
   "metadata": {
    "collapsed": true
   },
   "outputs": [],
   "source": [
    "import csv\n",
    "with open('editions.csv', 'w', newline='') as csvfile:\n",
    "    spamwriter = csv.writer(csvfile)\n",
    "    spamwriter.writerow(['Edition', 'Link'])\n",
    "    for ed, lnk in get_data(links):\n",
    "        spamwriter.writerow([ed, lnk])"
   ]
  },
  {
   "cell_type": "code",
   "execution_count": 148,
   "metadata": {
    "collapsed": true
   },
   "outputs": [],
   "source": [
    "def get_edition_cards(href):\n",
    "    htmldata = requests.get(href).text\n",
    "    htmlsoup = BeautifulSoup(htmldata, 'html.parser')\n",
    "    \n",
    "    cardtable = htmlsoup.find_all(\"table\")[3]\n",
    "    \n",
    "    cardsdata = []\n",
    "\n",
    "    for tr in cardtable.find_all(\"tr\")[1:]:\n",
    "        card_data = [td.text for td in tr.find_all(\"td\")[0:]]\n",
    "        card_data.append(\"https://magiccards.info\" + tr.find(\"a\").attrs['href']) #Append card link\n",
    "        cardsdata.append(card_data)\n",
    "    \n",
    "    return cardsdata"
   ]
  },
  {
   "cell_type": "code",
   "execution_count": 149,
   "metadata": {},
   "outputs": [],
   "source": [
    "t = get_edition_cards(\"https://magiccards.info/xln/en.html\")"
   ]
  },
  {
   "cell_type": "code",
   "execution_count": 121,
   "metadata": {},
   "outputs": [],
   "source": [
    "import csv\n",
    "hrefs = []\n",
    "with open(\"editions.csv\") as csvfile:\n",
    "    spamreader = csv.reader(csvfile)\n",
    "    next(spamreader)\n",
    "    for ed, lnk in spamreader:\n",
    "        hrefs.append(lnk)"
   ]
  },
  {
   "cell_type": "code",
   "execution_count": 170,
   "metadata": {},
   "outputs": [
    {
     "name": "stdout",
     "output_type": "stream",
     "text": [
      "Working on https://magiccards.info/xln/en.html 0/213\n",
      "Working on https://magiccards.info/hou/en.html 1/213\n",
      "Working on https://magiccards.info/akh/en.html 2/213\n",
      "Working on https://magiccards.info/aer/en.html 3/213\n",
      "Working on https://magiccards.info/kld/en.html 4/213\n",
      "Working on https://magiccards.info/emn/en.html 5/213\n",
      "Working on https://magiccards.info/soi/en.html 6/213\n",
      "Working on https://magiccards.info/ogw/en.html 7/213\n",
      "Working on https://magiccards.info/bfz/en.html 8/213\n",
      "Working on https://magiccards.info/dtk/en.html 9/213\n",
      "Working on https://magiccards.info/frf/en.html 10/213\n",
      "Working on https://magiccards.info/ktk/en.html 11/213\n",
      "Working on https://magiccards.info/jou/en.html 12/213\n",
      "Working on https://magiccards.info/bng/en.html 13/213\n",
      "Working on https://magiccards.info/ths/en.html 14/213\n",
      "Working on https://magiccards.info/dgm/en.html 15/213\n",
      "Working on https://magiccards.info/gtc/en.html 16/213\n",
      "Working on https://magiccards.info/rtr/en.html 17/213\n",
      "Working on https://magiccards.info/avr/en.html 18/213\n",
      "Working on https://magiccards.info/dka/en.html 19/213\n",
      "Working on https://magiccards.info/isd/en.html 20/213\n",
      "Working on https://magiccards.info/nph/en.html 21/213\n",
      "Working on https://magiccards.info/mbs/en.html 22/213\n",
      "Working on https://magiccards.info/som/en.html 23/213\n",
      "Working on https://magiccards.info/roe/en.html 24/213\n",
      "Working on https://magiccards.info/wwk/en.html 25/213\n",
      "Working on https://magiccards.info/zen/en.html 26/213\n",
      "Working on https://magiccards.info/arb/en.html 27/213\n",
      "Working on https://magiccards.info/cfx/en.html 28/213\n",
      "Working on https://magiccards.info/ala/en.html 29/213\n",
      "Working on https://magiccards.info/eve/en.html 30/213\n",
      "Working on https://magiccards.info/shm/en.html 31/213\n",
      "Working on https://magiccards.info/mt/en.html 32/213\n",
      "Working on https://magiccards.info/lw/en.html 33/213\n",
      "Working on https://magiccards.info/fut/en.html 34/213\n",
      "Working on https://magiccards.info/pc/en.html 35/213\n",
      "Working on https://magiccards.info/ts/en.html 36/213\n",
      "Working on https://magiccards.info/tsts/en.html 37/213\n",
      "Working on https://magiccards.info/cs/en.html 38/213\n",
      "Working on https://magiccards.info/ai/en.html 39/213\n",
      "Working on https://magiccards.info/ia/en.html 40/213\n",
      "Working on https://magiccards.info/di/en.html 41/213\n",
      "Working on https://magiccards.info/gp/en.html 42/213\n",
      "Working on https://magiccards.info/rav/en.html 43/213\n",
      "Working on https://magiccards.info/sok/en.html 44/213\n",
      "Working on https://magiccards.info/bok/en.html 45/213\n",
      "Working on https://magiccards.info/chk/en.html 46/213\n",
      "Working on https://magiccards.info/5dn/en.html 47/213\n",
      "Working on https://magiccards.info/ds/en.html 48/213\n",
      "Working on https://magiccards.info/mi/en.html 49/213\n",
      "Working on https://magiccards.info/sc/en.html 50/213\n",
      "Working on https://magiccards.info/le/en.html 51/213\n",
      "Working on https://magiccards.info/on/en.html 52/213\n",
      "Working on https://magiccards.info/ju/en.html 53/213\n",
      "Working on https://magiccards.info/tr/en.html 54/213\n",
      "Working on https://magiccards.info/od/en.html 55/213\n",
      "Working on https://magiccards.info/ap/en.html 56/213\n",
      "Working on https://magiccards.info/ps/en.html 57/213\n",
      "Working on https://magiccards.info/in/en.html 58/213\n",
      "Working on https://magiccards.info/pr/en.html 59/213\n",
      "Working on https://magiccards.info/ne/en.html 60/213\n",
      "Working on https://magiccards.info/mm/en.html 61/213\n",
      "Working on https://magiccards.info/ud/en.html 62/213\n",
      "Working on https://magiccards.info/ul/en.html 63/213\n",
      "Working on https://magiccards.info/us/en.html 64/213\n",
      "Working on https://magiccards.info/ex/en.html 65/213\n",
      "Working on https://magiccards.info/sh/en.html 66/213\n",
      "Working on https://magiccards.info/tp/en.html 67/213\n",
      "Working on https://magiccards.info/wl/en.html 68/213\n",
      "Working on https://magiccards.info/vi/en.html 69/213\n",
      "Working on https://magiccards.info/mr/en.html 70/213\n",
      "Working on https://magiccards.info/hl/en.html 71/213\n",
      "Working on https://magiccards.info/fe/en.html 72/213\n",
      "Working on https://magiccards.info/dk/en.html 73/213\n",
      "Working on https://magiccards.info/lg/en.html 74/213\n",
      "Working on https://magiccards.info/aq/en.html 75/213\n",
      "Working on https://magiccards.info/an/en.html 76/213\n",
      "Working on https://magiccards.info/ori/en.html 77/213\n",
      "Working on https://magiccards.info/m15/en.html 78/213\n",
      "Working on https://magiccards.info/m14/en.html 79/213\n",
      "Working on https://magiccards.info/m13/en.html 80/213\n",
      "Working on https://magiccards.info/m12/en.html 81/213\n",
      "Working on https://magiccards.info/m11/en.html 82/213\n",
      "Working on https://magiccards.info/m10/en.html 83/213\n",
      "Working on https://magiccards.info/10e/en.html 84/213\n",
      "Working on https://magiccards.info/9e/en.html 85/213\n",
      "Working on https://magiccards.info/8e/en.html 86/213\n",
      "Working on https://magiccards.info/7e/en.html 87/213\n",
      "Working on https://magiccards.info/6e/en.html 88/213\n",
      "Working on https://magiccards.info/5e/en.html 89/213\n",
      "Working on https://magiccards.info/4e/en.html 90/213\n",
      "Working on https://magiccards.info/summer/en.html 91/213\n",
      "Working on https://magiccards.info/rv/en.html 92/213\n",
      "Working on https://magiccards.info/un/en.html 93/213\n",
      "Working on https://magiccards.info/be/en.html 94/213\n",
      "Working on https://magiccards.info/al/en.html 95/213\n",
      "Working on https://magiccards.info/vma/en.html 96/213\n",
      "Working on https://magiccards.info/me4/en.html 97/213\n",
      "Working on https://magiccards.info/me3/en.html 98/213\n",
      "Working on https://magiccards.info/me2/en.html 99/213\n",
      "Working on https://magiccards.info/med/en.html 100/213\n",
      "Working on https://magiccards.info/mpsakh/en.html 101/213\n",
      "Working on https://magiccards.info/mpskld/en.html 102/213\n",
      "Working on https://magiccards.info/exp/en.html 103/213\n",
      "Working on https://magiccards.info/cn2/en.html 104/213\n",
      "Working on https://magiccards.info/cns/en.html 105/213\n",
      "Working on https://magiccards.info/pd3/en.html 106/213\n",
      "Working on https://magiccards.info/pd2/en.html 107/213\n",
      "Working on https://magiccards.info/pds/en.html 108/213\n",
      "Working on https://magiccards.info/mm3/en.html 109/213\n",
      "Working on https://magiccards.info/ema/en.html 110/213\n",
      "Working on https://magiccards.info/mm2/en.html 111/213\n",
      "Working on https://magiccards.info/tpr/en.html 112/213\n",
      "Working on https://magiccards.info/md1/en.html 113/213\n",
      "Working on https://magiccards.info/mma/en.html 114/213\n",
      "Working on https://magiccards.info/dpa/en.html 115/213\n",
      "Working on https://magiccards.info/ch/en.html 116/213\n",
      "Working on https://magiccards.info/c17/en.html 117/213\n",
      "Working on https://magiccards.info/e01/en.html 118/213\n",
      "Working on https://magiccards.info/cma/en.html 119/213\n",
      "Working on https://magiccards.info/c16/en.html 120/213\n",
      "Working on https://magiccards.info/pca/en.html 121/213\n",
      "Working on https://magiccards.info/c15/en.html 122/213\n",
      "Working on https://magiccards.info/c14/en.html 123/213\n",
      "Working on https://magiccards.info/c13/en.html 124/213\n",
      "Working on https://magiccards.info/cma/en.html 125/213\n",
      "Working on https://magiccards.info/pc2/en.html 126/213\n",
      "Working on https://magiccards.info/cmd/en.html 127/213\n",
      "Working on https://magiccards.info/arc/en.html 128/213\n",
      "Working on https://magiccards.info/pch/en.html 129/213\n",
      "Working on https://magiccards.info/v16/en.html 130/213\n",
      "Working on https://magiccards.info/v15/en.html 131/213\n",
      "Working on https://magiccards.info/v14/en.html 132/213\n",
      "Working on https://magiccards.info/v13/en.html 133/213\n",
      "Working on https://magiccards.info/v12/en.html 134/213\n",
      "Working on https://magiccards.info/fvl/en.html 135/213\n",
      "Working on https://magiccards.info/fvr/en.html 136/213\n",
      "Working on https://magiccards.info/fve/en.html 137/213\n",
      "Working on https://magiccards.info/fvd/en.html 138/213\n",
      "Working on https://magiccards.info/dds/en.html 139/213\n",
      "Working on https://magiccards.info/ddr/en.html 140/213\n",
      "Working on https://magiccards.info/ddq/en.html 141/213\n",
      "Working on https://magiccards.info/ddp/en.html 142/213\n",
      "Working on https://magiccards.info/ddadvd/en.html 143/213\n",
      "Working on https://magiccards.info/ddaevg/en.html 144/213\n",
      "Working on https://magiccards.info/ddagvl/en.html 145/213\n",
      "Working on https://magiccards.info/ddajvc/en.html 146/213\n",
      "Working on https://magiccards.info/ddo/en.html 147/213\n",
      "Working on https://magiccards.info/ddn/en.html 148/213\n",
      "Working on https://magiccards.info/ddm/en.html 149/213\n",
      "Working on https://magiccards.info/ddl/en.html 150/213\n",
      "Working on https://magiccards.info/ddk/en.html 151/213\n"
     ]
    },
    {
     "name": "stdout",
     "output_type": "stream",
     "text": [
      "Working on https://magiccards.info/ddj/en.html 152/213\n",
      "Working on https://magiccards.info/ddi/en.html 153/213\n",
      "Working on https://magiccards.info/ddh/en.html 154/213\n",
      "Working on https://magiccards.info/ddg/en.html 155/213\n",
      "Working on https://magiccards.info/ddf/en.html 156/213\n",
      "Working on https://magiccards.info/pvc/en.html 157/213\n",
      "Working on https://magiccards.info/gvl/en.html 158/213\n",
      "Working on https://magiccards.info/dvd/en.html 159/213\n",
      "Working on https://magiccards.info/jvc/en.html 160/213\n",
      "Working on https://magiccards.info/evg/en.html 161/213\n",
      "Working on https://magiccards.info/cstd/en.html 162/213\n",
      "Working on https://magiccards.info/9eb/en.html 163/213\n",
      "Working on https://magiccards.info/8eb/en.html 164/213\n",
      "Working on https://magiccards.info/dm/en.html 165/213\n",
      "Working on https://magiccards.info/bd/en.html 166/213\n",
      "Working on https://magiccards.info/br/en.html 167/213\n",
      "Working on https://magiccards.info/at/en.html 168/213\n",
      "Working on https://magiccards.info/mgbc/en.html 169/213\n",
      "Working on https://magiccards.info/uh/en.html 170/213\n",
      "Working on https://magiccards.info/ug/en.html 171/213\n",
      "Working on https://magiccards.info/uhaa/en.html 172/213\n",
      "Working on https://magiccards.info/w17/en.html 173/213\n",
      "Working on https://magiccards.info/w16/en.html 174/213\n",
      "Working on https://magiccards.info/st2k/en.html 175/213\n",
      "Working on https://magiccards.info/st/en.html 176/213\n",
      "Working on https://magiccards.info/p3k/en.html 177/213\n",
      "Working on https://magiccards.info/po2/en.html 178/213\n",
      "Working on https://magiccards.info/po/en.html 179/213\n",
      "Working on https://magiccards.info/itp/en.html 180/213\n",
      "Working on https://magiccards.info/ced/en.html 181/213\n",
      "Working on https://magiccards.info/cedi/en.html 182/213\n",
      "Working on https://magiccards.info/ugin/en.html 183/213\n",
      "Working on https://magiccards.info/15ann/en.html 184/213\n",
      "Working on https://magiccards.info/gpx/en.html 185/213\n",
      "Working on https://magiccards.info/pro/en.html 186/213\n",
      "Working on https://magiccards.info/mgdc/en.html 187/213\n",
      "Working on https://magiccards.info/wrl/en.html 188/213\n",
      "ERROR with https://magiccards.info/wrl/en.html\n",
      "Working on https://magiccards.info/wmcq/en.html 189/213\n",
      "Working on https://magiccards.info/drc/en.html 190/213\n",
      "ERROR with https://magiccards.info/drc/en.html\n",
      "Working on https://magiccards.info/ptc/en.html 191/213\n",
      "Working on https://magiccards.info/rep/en.html 192/213\n",
      "Working on https://magiccards.info/mlp/en.html 193/213\n",
      "Working on https://magiccards.info/sum/en.html 194/213\n",
      "Working on https://magiccards.info/grc/en.html 195/213\n",
      "Working on https://magiccards.info/cp/en.html 196/213\n",
      "Working on https://magiccards.info/thgt/en.html 197/213\n",
      "ERROR with https://magiccards.info/thgt/en.html\n",
      "Working on https://magiccards.info/arena/en.html 198/213\n",
      "Working on https://magiccards.info/fnmp/en.html 199/213\n",
      "Working on https://magiccards.info/mprp/en.html 200/213\n",
      "Working on https://magiccards.info/sus/en.html 201/213\n",
      "Working on https://magiccards.info/hho/en.html 202/213\n",
      "Working on https://magiccards.info/jr/en.html 203/213\n",
      "Working on https://magiccards.info/pot/en.html 204/213\n",
      "Working on https://magiccards.info/euro/en.html 205/213\n",
      "Working on https://magiccards.info/guru/en.html 206/213\n",
      "Working on https://magiccards.info/apac/en.html 207/213\n",
      "Working on https://magiccards.info/wotc/en.html 208/213\n",
      "ERROR with https://magiccards.info/wotc/en.html\n",
      "Working on https://magiccards.info/uqc/en.html 209/213\n",
      "Working on https://magiccards.info/clash/en.html 210/213\n",
      "Working on https://magiccards.info/mbp/en.html 211/213\n",
      "Working on https://magiccards.info/dcilm/en.html 212/213\n"
     ]
    }
   ],
   "source": [
    "with open(\"cards.csv\", 'w', newline='', encoding='utf-16') as csvfile:\n",
    "    spamwriter = csv.writer(csvfile, delimiter=',')\n",
    "    for i, href in enumerate(hrefs):\n",
    "        print(\"Working on {} {}/{}\".format(href, i, len(hrefs)))\n",
    "        try:\n",
    "            cardsdata = get_edition_cards(href)\n",
    "            for carddata in cardsdata:\n",
    "                spamwriter.writerow(carddata)\n",
    "        except:\n",
    "            print(\"ERROR with {}\".format(href))\n",
    "        \n"
   ]
  },
  {
   "cell_type": "code",
   "execution_count": null,
   "metadata": {
    "collapsed": true
   },
   "outputs": [],
   "source": []
  }
 ],
 "metadata": {
  "kernelspec": {
   "display_name": "Python 3",
   "language": "python",
   "name": "python3"
  },
  "language_info": {
   "codemirror_mode": {
    "name": "ipython",
    "version": 3
   },
   "file_extension": ".py",
   "mimetype": "text/x-python",
   "name": "python",
   "nbconvert_exporter": "python",
   "pygments_lexer": "ipython3",
   "version": "3.6.2"
  }
 },
 "nbformat": 4,
 "nbformat_minor": 2
}
